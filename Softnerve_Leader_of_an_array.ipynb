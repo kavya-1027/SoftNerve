{
  "nbformat": 4,
  "nbformat_minor": 0,
  "metadata": {
    "colab": {
      "provenance": []
    },
    "kernelspec": {
      "name": "python3",
      "display_name": "Python 3"
    },
    "language_info": {
      "name": "python"
    }
  },
  "cells": [
    {
      "cell_type": "code",
      "execution_count": null,
      "metadata": {
        "colab": {
          "base_uri": "https://localhost:8080/"
        },
        "id": "WrgZ0k82hi1i",
        "outputId": "0420cb77-9f89-4f4c-f073-e47029466aad"
      },
      "outputs": [
        {
          "output_type": "stream",
          "name": "stdout",
          "text": [
            "Enter the number of elements: 7\n",
            "Enter the element1:10\n",
            "Enter the element2:7\n",
            "Enter the element3:4\n",
            "Enter the element4:10\n",
            "Enter the element5:6\n",
            "Enter the element6:5\n",
            "Enter the element7:2\n",
            "[10, 6, 5, 2]\n"
          ]
        }
      ],
      "source": [
        "total_no_of_elements = int(input(\"Enter the number of elements: \"))\n",
        "input_array = []\n",
        "\n",
        "for i in range(total_no_of_elements):\n",
        "    element = int(input(f\"Enter the element{i+1}:\"))\n",
        "    input_array.append(element)\n",
        "    \n",
        "leader_array = []\n",
        "leader_array.append(input_array[-1])\n",
        "size = 0\n",
        "for i in range(len(input_array)-1,-1,-1):\n",
        "    if(input_array[i]>leader_array[size]):\n",
        "        leader_array.append(input_array[i])\n",
        "        size += 1\n",
        "leader_array.reverse()\n",
        "print(leader_array)\n",
        "\n"
      ]
    }
  ]
}