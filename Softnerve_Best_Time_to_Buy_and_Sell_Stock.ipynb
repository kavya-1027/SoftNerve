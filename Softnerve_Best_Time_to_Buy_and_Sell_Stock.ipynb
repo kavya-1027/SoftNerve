{
  "nbformat": 4,
  "nbformat_minor": 0,
  "metadata": {
    "colab": {
      "provenance": []
    },
    "kernelspec": {
      "name": "python3",
      "display_name": "Python 3"
    },
    "language_info": {
      "name": "python"
    }
  },
  "cells": [
    {
      "cell_type": "code",
      "execution_count": null,
      "metadata": {
        "colab": {
          "base_uri": "https://localhost:8080/"
        },
        "id": "0R5RS-r3jeVQ",
        "outputId": "cc2205bb-3870-4b70-de33-c39947bc5366"
      },
      "outputs": [
        {
          "output_type": "stream",
          "name": "stdout",
          "text": [
            "Enter the number of days to get the price input : 5\n",
            "Enter the price1:7\n",
            "Enter the price2:6\n",
            "Enter the price3:4\n",
            "Enter the price4:3\n",
            "Enter the price5:1\n",
            "Profit= 0\n"
          ]
        }
      ],
      "source": [
        "prices_for_n_days= int(input(\"Enter the number of days to get the price input : \"))\n",
        "while(prices_for_n_days > 105 or prices_for_n_days < 1):\n",
        "    print(\"Invalid number of days\")\n",
        "    prices_for_n_days = int(input(\"Enter the number of days to get the price input: \"))\n",
        "\n",
        "input_array = []\n",
        "for i in range(prices_for_n_days):\n",
        "    input_price = int(input(f\"Enter the price{i+1}:\"))\n",
        "    while(input_price > 104 or input_price < 0):\n",
        "        print(\"Invalid input price\")\n",
        "        input_price = int(input(f\"Enter the price{i+1}:\"))\n",
        "    input_array.append(input_price)\n",
        "\n",
        "profit = 0\n",
        "\n",
        "for i in range(len(input_array)):\n",
        "    for j in range(i+1,len(input_array)):\n",
        "        if input_array[j] > input_array[i] and input_array[j] - input_array[i] > profit:\n",
        "            profit = input_array[j] - input_array[i]\n",
        "\n",
        "print(\"Profit=\",profit)\n"
      ]
    }
  ]
}