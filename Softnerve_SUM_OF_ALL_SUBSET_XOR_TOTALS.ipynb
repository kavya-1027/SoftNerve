{
  "nbformat": 4,
  "nbformat_minor": 0,
  "metadata": {
    "colab": {
      "provenance": []
    },
    "kernelspec": {
      "name": "python3",
      "display_name": "Python 3"
    },
    "language_info": {
      "name": "python"
    }
  },
  "cells": [
    {
      "cell_type": "code",
      "source": [
        "total_no_of_elements = int(input(\"Enter the number of elements: \"))\n",
        "input_array = []\n",
        "\n",
        "for index in range(total_no_of_elements):\n",
        "    element = int(input(f\"Enter the element{index+1}:\"))\n",
        "    input_array.append(element)\n",
        "\n",
        "def subsetXORSum(input_array):\n",
        "    def helper(index, xor_total):\n",
        "        if index == len(input_array):\n",
        "            return xor_total\n",
        "        return helper(index + 1, xor_total ^ input_array[index]) + helper(index + 1, xor_total)\n",
        "    \n",
        "    return helper(0, 0)\n",
        "\n",
        "print(subsetXORSum(input_array)) \n",
        "\n"
      ],
      "metadata": {
        "colab": {
          "base_uri": "https://localhost:8080/"
        },
        "id": "ekyt1TnxdfXB",
        "outputId": "51aef08e-a241-46c8-eb41-eb592eaf336b"
      },
      "execution_count": 4,
      "outputs": [
        {
          "output_type": "stream",
          "name": "stdout",
          "text": [
            "Enter the number of elements: 3\n",
            "Enter the element1:5\n",
            "Enter the element2:1\n",
            "Enter the element3:6\n",
            "28\n"
          ]
        }
      ]
    }
  ]
}